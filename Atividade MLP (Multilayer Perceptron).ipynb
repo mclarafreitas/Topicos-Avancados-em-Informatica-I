{
  "nbformat": 4,
  "nbformat_minor": 0,
  "metadata": {
    "colab": {
      "provenance": [],
      "authorship_tag": "ABX9TyOduDH57OOPPxTLNpxMA1+r",
      "include_colab_link": true
    },
    "kernelspec": {
      "name": "python3",
      "display_name": "Python 3"
    },
    "language_info": {
      "name": "python"
    }
  },
  "cells": [
    {
      "cell_type": "markdown",
      "metadata": {
        "id": "view-in-github",
        "colab_type": "text"
      },
      "source": [
        "<a href=\"https://colab.research.google.com/github/mclarafreitas/Topicos-Avancados-em-Informatica-I/blob/main/Atividade%20MLP%20(Multilayer%20Perceptron).ipynb\" target=\"_parent\"><img src=\"https://colab.research.google.com/assets/colab-badge.svg\" alt=\"Open In Colab\"/></a>"
      ]
    },
    {
      "cell_type": "markdown",
      "source": [
        "## **Aluna: Maria Clara Moura de Freitas**\n",
        "**Matrícula: 20200069048**"
      ],
      "metadata": {
        "id": "D9_SkVwtH9Mo"
      }
    },
    {
      "cell_type": "markdown",
      "source": [
        "  Na atividade foi pedido para se realizar um treinamento MLP com o conjunto de dados \"diabetes\" que foi lido a partir de um arquivo CSV disponibilizado no github pelo professor. Primeiramente foi lido o arquivo CSV utilizando 'head' e 'describe' e dividimos as variáveis do conjunto de dados com entrada (X) e saída(y).\n",
        "\n",
        "  Foi utilizado os dados:\n",
        "*   Insulin, Glucose e Age (X)\n",
        "*   Outcome (y)\n",
        "\n",
        "\n",
        "  Depois dividimos as variáveis X e y em conjuntos de treinamento utilizando a função 'train_test_split' da biblioteca scikit-learn. Em seguida, normalizamos usando o 'MinMaxScaler' para evitar que uma variável tenha mais peso do que outra.\n",
        "  Em seguida, criamos o modelo de aprendizagem usando a biblioteca TensorFlow que é uma rede neural simples contendo uma camada de entrada, escondida e uma de saída. Foi compilado com o otimizador 'adam', a função de perda 'binary_crossentropy' e utilizando o método 'fit' para treinar.\n",
        "\n",
        "  * Foi colocado três Inputs na rede neural\n",
        "  * 4 unidades na rede neural\n",
        "\n",
        "\n",
        "  Depois de treinar o modelo, o conjunto de teste é usado para fazer previsões usando o método 'predict'. As previsão são convertidas em binário, então 1 é quando a previsão for maior que 0.5 e 0 caso menor que 0.5. A acurácia do modelo foi avaliada usando a função 'accuracy_score' e a matriz de confusão é gerada usando a biblioteca scikit-learn.\n",
        "\n",
        "*   A acurácia encontrada foi de 73.95833333333334 %\n",
        "*   Foram utilizados 81 Epochs\n",
        "*   Tentei utilizar outra quantidade de Epochs e na maioria das vezes a acurácia foi menor e como foi dito em sala de aula que 81 Epochs é um número bom então manti esse valor.\n",
        "\n",
        "E por fim, os resultados do modelo são plotados usando a biblioteca matplotlib. Um gráfico de dispersão foi plotado com os dados do treinamento e um gráfico de contorno para mostrar a região de decisão da rede neural.\n",
        "\n",
        "\n"
      ],
      "metadata": {
        "id": "O9AnyXWCBYy8"
      }
    },
    {
      "cell_type": "code",
      "execution_count": null,
      "metadata": {
        "colab": {
          "base_uri": "https://localhost:8080/",
          "height": 206
        },
        "id": "JqarO6bc9ybN",
        "outputId": "9f84642b-4fe7-46b4-ba57-3ffdbc057b70"
      },
      "outputs": [
        {
          "output_type": "execute_result",
          "data": {
            "text/plain": [
              "   Pregnancies  Glucose  BloodPressure  SkinThickness  Insulin   BMI  \\\n",
              "0            6      148             72             35        0  33.6   \n",
              "1            1       85             66             29        0  26.6   \n",
              "2            8      183             64              0        0  23.3   \n",
              "3            1       89             66             23       94  28.1   \n",
              "4            0      137             40             35      168  43.1   \n",
              "\n",
              "   DiabetesPedigreeFunction  Age  Outcome  \n",
              "0                     0.627   50        1  \n",
              "1                     0.351   31        0  \n",
              "2                     0.672   32        1  \n",
              "3                     0.167   21        0  \n",
              "4                     2.288   33        1  "
            ],
            "text/html": [
              "\n",
              "  <div id=\"df-32fe59f2-14ca-4b68-95f0-170dfaa18d05\">\n",
              "    <div class=\"colab-df-container\">\n",
              "      <div>\n",
              "<style scoped>\n",
              "    .dataframe tbody tr th:only-of-type {\n",
              "        vertical-align: middle;\n",
              "    }\n",
              "\n",
              "    .dataframe tbody tr th {\n",
              "        vertical-align: top;\n",
              "    }\n",
              "\n",
              "    .dataframe thead th {\n",
              "        text-align: right;\n",
              "    }\n",
              "</style>\n",
              "<table border=\"1\" class=\"dataframe\">\n",
              "  <thead>\n",
              "    <tr style=\"text-align: right;\">\n",
              "      <th></th>\n",
              "      <th>Pregnancies</th>\n",
              "      <th>Glucose</th>\n",
              "      <th>BloodPressure</th>\n",
              "      <th>SkinThickness</th>\n",
              "      <th>Insulin</th>\n",
              "      <th>BMI</th>\n",
              "      <th>DiabetesPedigreeFunction</th>\n",
              "      <th>Age</th>\n",
              "      <th>Outcome</th>\n",
              "    </tr>\n",
              "  </thead>\n",
              "  <tbody>\n",
              "    <tr>\n",
              "      <th>0</th>\n",
              "      <td>6</td>\n",
              "      <td>148</td>\n",
              "      <td>72</td>\n",
              "      <td>35</td>\n",
              "      <td>0</td>\n",
              "      <td>33.6</td>\n",
              "      <td>0.627</td>\n",
              "      <td>50</td>\n",
              "      <td>1</td>\n",
              "    </tr>\n",
              "    <tr>\n",
              "      <th>1</th>\n",
              "      <td>1</td>\n",
              "      <td>85</td>\n",
              "      <td>66</td>\n",
              "      <td>29</td>\n",
              "      <td>0</td>\n",
              "      <td>26.6</td>\n",
              "      <td>0.351</td>\n",
              "      <td>31</td>\n",
              "      <td>0</td>\n",
              "    </tr>\n",
              "    <tr>\n",
              "      <th>2</th>\n",
              "      <td>8</td>\n",
              "      <td>183</td>\n",
              "      <td>64</td>\n",
              "      <td>0</td>\n",
              "      <td>0</td>\n",
              "      <td>23.3</td>\n",
              "      <td>0.672</td>\n",
              "      <td>32</td>\n",
              "      <td>1</td>\n",
              "    </tr>\n",
              "    <tr>\n",
              "      <th>3</th>\n",
              "      <td>1</td>\n",
              "      <td>89</td>\n",
              "      <td>66</td>\n",
              "      <td>23</td>\n",
              "      <td>94</td>\n",
              "      <td>28.1</td>\n",
              "      <td>0.167</td>\n",
              "      <td>21</td>\n",
              "      <td>0</td>\n",
              "    </tr>\n",
              "    <tr>\n",
              "      <th>4</th>\n",
              "      <td>0</td>\n",
              "      <td>137</td>\n",
              "      <td>40</td>\n",
              "      <td>35</td>\n",
              "      <td>168</td>\n",
              "      <td>43.1</td>\n",
              "      <td>2.288</td>\n",
              "      <td>33</td>\n",
              "      <td>1</td>\n",
              "    </tr>\n",
              "  </tbody>\n",
              "</table>\n",
              "</div>\n",
              "      <button class=\"colab-df-convert\" onclick=\"convertToInteractive('df-32fe59f2-14ca-4b68-95f0-170dfaa18d05')\"\n",
              "              title=\"Convert this dataframe to an interactive table.\"\n",
              "              style=\"display:none;\">\n",
              "        \n",
              "  <svg xmlns=\"http://www.w3.org/2000/svg\" height=\"24px\"viewBox=\"0 0 24 24\"\n",
              "       width=\"24px\">\n",
              "    <path d=\"M0 0h24v24H0V0z\" fill=\"none\"/>\n",
              "    <path d=\"M18.56 5.44l.94 2.06.94-2.06 2.06-.94-2.06-.94-.94-2.06-.94 2.06-2.06.94zm-11 1L8.5 8.5l.94-2.06 2.06-.94-2.06-.94L8.5 2.5l-.94 2.06-2.06.94zm10 10l.94 2.06.94-2.06 2.06-.94-2.06-.94-.94-2.06-.94 2.06-2.06.94z\"/><path d=\"M17.41 7.96l-1.37-1.37c-.4-.4-.92-.59-1.43-.59-.52 0-1.04.2-1.43.59L10.3 9.45l-7.72 7.72c-.78.78-.78 2.05 0 2.83L4 21.41c.39.39.9.59 1.41.59.51 0 1.02-.2 1.41-.59l7.78-7.78 2.81-2.81c.8-.78.8-2.07 0-2.86zM5.41 20L4 18.59l7.72-7.72 1.47 1.35L5.41 20z\"/>\n",
              "  </svg>\n",
              "      </button>\n",
              "      \n",
              "  <style>\n",
              "    .colab-df-container {\n",
              "      display:flex;\n",
              "      flex-wrap:wrap;\n",
              "      gap: 12px;\n",
              "    }\n",
              "\n",
              "    .colab-df-convert {\n",
              "      background-color: #E8F0FE;\n",
              "      border: none;\n",
              "      border-radius: 50%;\n",
              "      cursor: pointer;\n",
              "      display: none;\n",
              "      fill: #1967D2;\n",
              "      height: 32px;\n",
              "      padding: 0 0 0 0;\n",
              "      width: 32px;\n",
              "    }\n",
              "\n",
              "    .colab-df-convert:hover {\n",
              "      background-color: #E2EBFA;\n",
              "      box-shadow: 0px 1px 2px rgba(60, 64, 67, 0.3), 0px 1px 3px 1px rgba(60, 64, 67, 0.15);\n",
              "      fill: #174EA6;\n",
              "    }\n",
              "\n",
              "    [theme=dark] .colab-df-convert {\n",
              "      background-color: #3B4455;\n",
              "      fill: #D2E3FC;\n",
              "    }\n",
              "\n",
              "    [theme=dark] .colab-df-convert:hover {\n",
              "      background-color: #434B5C;\n",
              "      box-shadow: 0px 1px 3px 1px rgba(0, 0, 0, 0.15);\n",
              "      filter: drop-shadow(0px 1px 2px rgba(0, 0, 0, 0.3));\n",
              "      fill: #FFFFFF;\n",
              "    }\n",
              "  </style>\n",
              "\n",
              "      <script>\n",
              "        const buttonEl =\n",
              "          document.querySelector('#df-32fe59f2-14ca-4b68-95f0-170dfaa18d05 button.colab-df-convert');\n",
              "        buttonEl.style.display =\n",
              "          google.colab.kernel.accessAllowed ? 'block' : 'none';\n",
              "\n",
              "        async function convertToInteractive(key) {\n",
              "          const element = document.querySelector('#df-32fe59f2-14ca-4b68-95f0-170dfaa18d05');\n",
              "          const dataTable =\n",
              "            await google.colab.kernel.invokeFunction('convertToInteractive',\n",
              "                                                     [key], {});\n",
              "          if (!dataTable) return;\n",
              "\n",
              "          const docLinkHtml = 'Like what you see? Visit the ' +\n",
              "            '<a target=\"_blank\" href=https://colab.research.google.com/notebooks/data_table.ipynb>data table notebook</a>'\n",
              "            + ' to learn more about interactive tables.';\n",
              "          element.innerHTML = '';\n",
              "          dataTable['output_type'] = 'display_data';\n",
              "          await google.colab.output.renderOutput(dataTable, element);\n",
              "          const docLink = document.createElement('div');\n",
              "          docLink.innerHTML = docLinkHtml;\n",
              "          element.appendChild(docLink);\n",
              "        }\n",
              "      </script>\n",
              "    </div>\n",
              "  </div>\n",
              "  "
            ]
          },
          "metadata": {},
          "execution_count": 2
        }
      ],
      "source": [
        "import pandas as pd\n",
        "\n",
        "dataset = pd.read_csv(\"https://raw.githubusercontent.com/ect-info/ml/master/dados/diabetes.csv\")\n",
        "dataset.head() "
      ]
    },
    {
      "cell_type": "code",
      "source": [
        "dataset.describe()"
      ],
      "metadata": {
        "colab": {
          "base_uri": "https://localhost:8080/",
          "height": 300
        },
        "id": "YK1phARa_TmT",
        "outputId": "0db7d8bf-f6a2-480f-c6ae-60cfb0c79f53"
      },
      "execution_count": null,
      "outputs": [
        {
          "output_type": "execute_result",
          "data": {
            "text/plain": [
              "       Pregnancies     Glucose  BloodPressure  SkinThickness     Insulin  \\\n",
              "count   768.000000  768.000000     768.000000     768.000000  768.000000   \n",
              "mean      3.845052  120.894531      69.105469      20.536458   79.799479   \n",
              "std       3.369578   31.972618      19.355807      15.952218  115.244002   \n",
              "min       0.000000    0.000000       0.000000       0.000000    0.000000   \n",
              "25%       1.000000   99.000000      62.000000       0.000000    0.000000   \n",
              "50%       3.000000  117.000000      72.000000      23.000000   30.500000   \n",
              "75%       6.000000  140.250000      80.000000      32.000000  127.250000   \n",
              "max      17.000000  199.000000     122.000000      99.000000  846.000000   \n",
              "\n",
              "              BMI  DiabetesPedigreeFunction         Age     Outcome  \n",
              "count  768.000000                768.000000  768.000000  768.000000  \n",
              "mean    31.992578                  0.471876   33.240885    0.348958  \n",
              "std      7.884160                  0.331329   11.760232    0.476951  \n",
              "min      0.000000                  0.078000   21.000000    0.000000  \n",
              "25%     27.300000                  0.243750   24.000000    0.000000  \n",
              "50%     32.000000                  0.372500   29.000000    0.000000  \n",
              "75%     36.600000                  0.626250   41.000000    1.000000  \n",
              "max     67.100000                  2.420000   81.000000    1.000000  "
            ],
            "text/html": [
              "\n",
              "  <div id=\"df-e2888398-d672-4ac5-8de7-acd2319d64cd\">\n",
              "    <div class=\"colab-df-container\">\n",
              "      <div>\n",
              "<style scoped>\n",
              "    .dataframe tbody tr th:only-of-type {\n",
              "        vertical-align: middle;\n",
              "    }\n",
              "\n",
              "    .dataframe tbody tr th {\n",
              "        vertical-align: top;\n",
              "    }\n",
              "\n",
              "    .dataframe thead th {\n",
              "        text-align: right;\n",
              "    }\n",
              "</style>\n",
              "<table border=\"1\" class=\"dataframe\">\n",
              "  <thead>\n",
              "    <tr style=\"text-align: right;\">\n",
              "      <th></th>\n",
              "      <th>Pregnancies</th>\n",
              "      <th>Glucose</th>\n",
              "      <th>BloodPressure</th>\n",
              "      <th>SkinThickness</th>\n",
              "      <th>Insulin</th>\n",
              "      <th>BMI</th>\n",
              "      <th>DiabetesPedigreeFunction</th>\n",
              "      <th>Age</th>\n",
              "      <th>Outcome</th>\n",
              "    </tr>\n",
              "  </thead>\n",
              "  <tbody>\n",
              "    <tr>\n",
              "      <th>count</th>\n",
              "      <td>768.000000</td>\n",
              "      <td>768.000000</td>\n",
              "      <td>768.000000</td>\n",
              "      <td>768.000000</td>\n",
              "      <td>768.000000</td>\n",
              "      <td>768.000000</td>\n",
              "      <td>768.000000</td>\n",
              "      <td>768.000000</td>\n",
              "      <td>768.000000</td>\n",
              "    </tr>\n",
              "    <tr>\n",
              "      <th>mean</th>\n",
              "      <td>3.845052</td>\n",
              "      <td>120.894531</td>\n",
              "      <td>69.105469</td>\n",
              "      <td>20.536458</td>\n",
              "      <td>79.799479</td>\n",
              "      <td>31.992578</td>\n",
              "      <td>0.471876</td>\n",
              "      <td>33.240885</td>\n",
              "      <td>0.348958</td>\n",
              "    </tr>\n",
              "    <tr>\n",
              "      <th>std</th>\n",
              "      <td>3.369578</td>\n",
              "      <td>31.972618</td>\n",
              "      <td>19.355807</td>\n",
              "      <td>15.952218</td>\n",
              "      <td>115.244002</td>\n",
              "      <td>7.884160</td>\n",
              "      <td>0.331329</td>\n",
              "      <td>11.760232</td>\n",
              "      <td>0.476951</td>\n",
              "    </tr>\n",
              "    <tr>\n",
              "      <th>min</th>\n",
              "      <td>0.000000</td>\n",
              "      <td>0.000000</td>\n",
              "      <td>0.000000</td>\n",
              "      <td>0.000000</td>\n",
              "      <td>0.000000</td>\n",
              "      <td>0.000000</td>\n",
              "      <td>0.078000</td>\n",
              "      <td>21.000000</td>\n",
              "      <td>0.000000</td>\n",
              "    </tr>\n",
              "    <tr>\n",
              "      <th>25%</th>\n",
              "      <td>1.000000</td>\n",
              "      <td>99.000000</td>\n",
              "      <td>62.000000</td>\n",
              "      <td>0.000000</td>\n",
              "      <td>0.000000</td>\n",
              "      <td>27.300000</td>\n",
              "      <td>0.243750</td>\n",
              "      <td>24.000000</td>\n",
              "      <td>0.000000</td>\n",
              "    </tr>\n",
              "    <tr>\n",
              "      <th>50%</th>\n",
              "      <td>3.000000</td>\n",
              "      <td>117.000000</td>\n",
              "      <td>72.000000</td>\n",
              "      <td>23.000000</td>\n",
              "      <td>30.500000</td>\n",
              "      <td>32.000000</td>\n",
              "      <td>0.372500</td>\n",
              "      <td>29.000000</td>\n",
              "      <td>0.000000</td>\n",
              "    </tr>\n",
              "    <tr>\n",
              "      <th>75%</th>\n",
              "      <td>6.000000</td>\n",
              "      <td>140.250000</td>\n",
              "      <td>80.000000</td>\n",
              "      <td>32.000000</td>\n",
              "      <td>127.250000</td>\n",
              "      <td>36.600000</td>\n",
              "      <td>0.626250</td>\n",
              "      <td>41.000000</td>\n",
              "      <td>1.000000</td>\n",
              "    </tr>\n",
              "    <tr>\n",
              "      <th>max</th>\n",
              "      <td>17.000000</td>\n",
              "      <td>199.000000</td>\n",
              "      <td>122.000000</td>\n",
              "      <td>99.000000</td>\n",
              "      <td>846.000000</td>\n",
              "      <td>67.100000</td>\n",
              "      <td>2.420000</td>\n",
              "      <td>81.000000</td>\n",
              "      <td>1.000000</td>\n",
              "    </tr>\n",
              "  </tbody>\n",
              "</table>\n",
              "</div>\n",
              "      <button class=\"colab-df-convert\" onclick=\"convertToInteractive('df-e2888398-d672-4ac5-8de7-acd2319d64cd')\"\n",
              "              title=\"Convert this dataframe to an interactive table.\"\n",
              "              style=\"display:none;\">\n",
              "        \n",
              "  <svg xmlns=\"http://www.w3.org/2000/svg\" height=\"24px\"viewBox=\"0 0 24 24\"\n",
              "       width=\"24px\">\n",
              "    <path d=\"M0 0h24v24H0V0z\" fill=\"none\"/>\n",
              "    <path d=\"M18.56 5.44l.94 2.06.94-2.06 2.06-.94-2.06-.94-.94-2.06-.94 2.06-2.06.94zm-11 1L8.5 8.5l.94-2.06 2.06-.94-2.06-.94L8.5 2.5l-.94 2.06-2.06.94zm10 10l.94 2.06.94-2.06 2.06-.94-2.06-.94-.94-2.06-.94 2.06-2.06.94z\"/><path d=\"M17.41 7.96l-1.37-1.37c-.4-.4-.92-.59-1.43-.59-.52 0-1.04.2-1.43.59L10.3 9.45l-7.72 7.72c-.78.78-.78 2.05 0 2.83L4 21.41c.39.39.9.59 1.41.59.51 0 1.02-.2 1.41-.59l7.78-7.78 2.81-2.81c.8-.78.8-2.07 0-2.86zM5.41 20L4 18.59l7.72-7.72 1.47 1.35L5.41 20z\"/>\n",
              "  </svg>\n",
              "      </button>\n",
              "      \n",
              "  <style>\n",
              "    .colab-df-container {\n",
              "      display:flex;\n",
              "      flex-wrap:wrap;\n",
              "      gap: 12px;\n",
              "    }\n",
              "\n",
              "    .colab-df-convert {\n",
              "      background-color: #E8F0FE;\n",
              "      border: none;\n",
              "      border-radius: 50%;\n",
              "      cursor: pointer;\n",
              "      display: none;\n",
              "      fill: #1967D2;\n",
              "      height: 32px;\n",
              "      padding: 0 0 0 0;\n",
              "      width: 32px;\n",
              "    }\n",
              "\n",
              "    .colab-df-convert:hover {\n",
              "      background-color: #E2EBFA;\n",
              "      box-shadow: 0px 1px 2px rgba(60, 64, 67, 0.3), 0px 1px 3px 1px rgba(60, 64, 67, 0.15);\n",
              "      fill: #174EA6;\n",
              "    }\n",
              "\n",
              "    [theme=dark] .colab-df-convert {\n",
              "      background-color: #3B4455;\n",
              "      fill: #D2E3FC;\n",
              "    }\n",
              "\n",
              "    [theme=dark] .colab-df-convert:hover {\n",
              "      background-color: #434B5C;\n",
              "      box-shadow: 0px 1px 3px 1px rgba(0, 0, 0, 0.15);\n",
              "      filter: drop-shadow(0px 1px 2px rgba(0, 0, 0, 0.3));\n",
              "      fill: #FFFFFF;\n",
              "    }\n",
              "  </style>\n",
              "\n",
              "      <script>\n",
              "        const buttonEl =\n",
              "          document.querySelector('#df-e2888398-d672-4ac5-8de7-acd2319d64cd button.colab-df-convert');\n",
              "        buttonEl.style.display =\n",
              "          google.colab.kernel.accessAllowed ? 'block' : 'none';\n",
              "\n",
              "        async function convertToInteractive(key) {\n",
              "          const element = document.querySelector('#df-e2888398-d672-4ac5-8de7-acd2319d64cd');\n",
              "          const dataTable =\n",
              "            await google.colab.kernel.invokeFunction('convertToInteractive',\n",
              "                                                     [key], {});\n",
              "          if (!dataTable) return;\n",
              "\n",
              "          const docLinkHtml = 'Like what you see? Visit the ' +\n",
              "            '<a target=\"_blank\" href=https://colab.research.google.com/notebooks/data_table.ipynb>data table notebook</a>'\n",
              "            + ' to learn more about interactive tables.';\n",
              "          element.innerHTML = '';\n",
              "          dataTable['output_type'] = 'display_data';\n",
              "          await google.colab.output.renderOutput(dataTable, element);\n",
              "          const docLink = document.createElement('div');\n",
              "          docLink.innerHTML = docLinkHtml;\n",
              "          element.appendChild(docLink);\n",
              "        }\n",
              "      </script>\n",
              "    </div>\n",
              "  </div>\n",
              "  "
            ]
          },
          "metadata": {},
          "execution_count": 3
        }
      ]
    },
    {
      "cell_type": "code",
      "source": [
        "X = dataset.loc[:,['Insulin', 'Glucose', 'Age' ]].values\n",
        "y = dataset['Outcome'].values\n",
        "print(X[0:10])\n",
        "print(y[0:10])"
      ],
      "metadata": {
        "colab": {
          "base_uri": "https://localhost:8080/"
        },
        "id": "BK6bTVvdAdK-",
        "outputId": "6412295c-24d2-48ba-a4d5-5f8b9bacfabd"
      },
      "execution_count": null,
      "outputs": [
        {
          "output_type": "stream",
          "name": "stdout",
          "text": [
            "[[  0 148  50]\n",
            " [  0  85  31]\n",
            " [  0 183  32]\n",
            " [ 94  89  21]\n",
            " [168 137  33]\n",
            " [  0 116  30]\n",
            " [ 88  78  26]\n",
            " [  0 115  29]\n",
            " [543 197  53]\n",
            " [  0 125  54]]\n",
            "[1 0 1 0 1 0 1 0 1 1]\n"
          ]
        }
      ]
    },
    {
      "cell_type": "code",
      "source": [
        "dataset['Insulin'].values"
      ],
      "metadata": {
        "colab": {
          "base_uri": "https://localhost:8080/"
        },
        "id": "RItkARnUCAcW",
        "outputId": "a4713bac-caf7-4d20-e6fc-39a118b5826d"
      },
      "execution_count": null,
      "outputs": [
        {
          "output_type": "execute_result",
          "data": {
            "text/plain": [
              "array([  0,   0,   0,  94, 168,   0,  88,   0, 543,   0,   0,   0,   0,\n",
              "       846, 175,   0, 230,   0,  83,  96, 235,   0,   0,   0, 146, 115,\n",
              "         0, 140, 110,   0,   0, 245,  54,   0,   0, 192,   0,   0,   0,\n",
              "       207,  70,   0,   0, 240,   0,   0,   0,   0,   0,   0,  82,  36,\n",
              "        23, 300, 342,   0, 304, 110,   0, 142,   0,   0,   0, 128,   0,\n",
              "         0,   0,   0,  38, 100,  90, 140,   0, 270,   0,   0,   0,   0,\n",
              "         0,   0,   0,   0,  71,   0,   0, 125,   0,  71, 110,   0,   0,\n",
              "       176,  48,   0,  64, 228,   0,  76,  64, 220,   0,   0,   0,  40,\n",
              "         0, 152,   0, 140,  18,  36, 135, 495,  37,   0, 175,   0,   0,\n",
              "         0,   0,  51, 100,   0, 100,   0,   0,  99, 135,  94, 145,   0,\n",
              "       168,   0, 225,   0,  49, 140,  50,  92,   0, 325,   0,   0,  63,\n",
              "         0, 284,   0,   0, 119,   0,   0, 204,   0, 155, 485,   0,   0,\n",
              "        94, 135,  53, 114,   0, 105, 285,   0,   0, 156,   0,   0,   0,\n",
              "        78,   0, 130,   0,  48,  55, 130,   0, 130,   0,   0,   0,  92,\n",
              "        23,   0,   0,   0, 495,  58, 114, 160,   0,  94,   0,   0,   0,\n",
              "       210,   0,  48,  99, 318,   0,   0,   0,  44, 190,   0, 280,   0,\n",
              "        87,   0,   0,   0,   0, 130, 175, 271, 129, 120,   0,   0, 478,\n",
              "         0,   0, 190,  56,  32,   0,   0, 744,  53,   0, 370,  37,   0,\n",
              "        45,   0, 192,   0,   0,   0,   0,  88,   0, 176, 194,   0,   0,\n",
              "       680, 402,   0,   0,   0,  55,   0, 258,   0,   0,   0, 375, 150,\n",
              "       130,   0,   0,   0,   0,  67,   0,   0,   0,   0,   0,  56,   0,\n",
              "        45,   0,  57,   0, 116,   0, 278,   0, 122, 155,   0,   0, 135,\n",
              "       545, 220,  49,  75,  40,  74, 182, 194,   0, 120, 360, 215, 184,\n",
              "         0,   0, 135,  42,   0,   0, 105, 132, 148, 180, 205,   0, 148,\n",
              "        96,  85,   0,  94,  64,   0, 140,   0, 231,   0,   0,  29,   0,\n",
              "       168, 156,   0, 120,  68,   0,  52,   0,   0,  58, 255,   0,   0,\n",
              "       171,   0, 105,  73,   0,   0,   0, 108,  83,   0,  74,   0,   0,\n",
              "         0,   0,  43,   0,   0, 167,   0,  54, 249, 325,   0,   0,   0,\n",
              "       293,  83,   0,   0,  66, 140, 465,  89,  66,  94, 158, 325,  84,\n",
              "        75,   0,  72,  82,   0, 182,  59, 110,  50,   0,   0, 285,  81,\n",
              "       196,   0, 415,  87,   0, 275, 115,   0,   0,   0,   0,   0,  88,\n",
              "         0,   0, 165,   0,   0,   0, 579,   0, 176, 310,  61, 167, 474,\n",
              "         0,   0,   0, 115, 170,  76,  78,   0, 210, 277,   0, 180, 145,\n",
              "       180,   0,  85,  60,   0,   0,   0,   0,   0,   0,   0,   0,  50,\n",
              "       120,   0,   0,  14,  70,  92,  64,  63,  95,   0, 210,   0, 105,\n",
              "         0,   0,  71, 237,  60,  56,   0,  49,   0,   0, 105,  36, 100,\n",
              "         0, 140,   0,   0,   0,   0,   0,   0, 191, 110,  75,   0, 328,\n",
              "         0,  49, 125,   0, 250, 480, 265,   0,   0,  66,   0,   0, 122,\n",
              "         0,   0,   0,  76, 145, 193,  71,   0,   0,  79,   0,   0,  90,\n",
              "       170,  76,   0,   0, 210,   0,   0,  86, 105, 165,   0,   0, 326,\n",
              "        66, 130,   0,   0,   0,   0,  82, 105, 188,   0, 106,   0,  65,\n",
              "         0,  56,   0,   0,   0, 210, 155, 215, 190,   0,  56,  76, 225,\n",
              "       207, 166,  67,   0,   0, 106,   0,  44, 115, 215,   0,   0,   0,\n",
              "         0,   0, 274,  77,  54,   0,  88,  18, 126, 126, 165,   0,   0,\n",
              "        44, 120, 330,  63, 130,   0,   0,   0,   0,   0,   0,   0, 600,\n",
              "         0,   0,   0, 156,   0,   0, 140,   0, 115, 230, 185,   0,  25,\n",
              "         0, 120,   0,   0,   0, 126,   0,   0, 293,  41, 272, 182, 158,\n",
              "       194, 321,   0, 144,   0,   0,  15,   0,   0, 160,   0,   0, 115,\n",
              "         0,  54,   0,   0,   0,   0,   0,  90,   0, 183,   0,   0,   0,\n",
              "        66,  91,  46, 105,   0,   0,   0, 152, 440, 144, 159, 130,   0,\n",
              "       100, 106,  77,   0, 135, 540,  90, 200,   0,  70,   0,   0, 231,\n",
              "       130,   0, 132,   0,   0, 190, 100, 168,   0,  49, 240,   0,   0,\n",
              "         0,   0,   0, 265,  45,   0, 105,   0,   0, 205,   0,   0, 180,\n",
              "       180,   0,   0,  95, 125,   0, 480, 125,   0, 155,   0, 200,   0,\n",
              "         0,   0, 100,   0,   0, 335,   0, 160, 387,  22,   0, 291,   0,\n",
              "       392, 185,   0, 178,   0,   0, 200, 127, 105,   0,   0, 180,   0,\n",
              "         0,   0,  79,   0, 120, 165,   0,   0, 120,   0, 160,   0, 150,\n",
              "        94, 116,   0, 140, 105,   0,  57, 200,   0,   0,  74,   0, 510,\n",
              "         0, 110,   0,   0,   0,   0,  16,   0,   0, 180,   0, 112,   0,\n",
              "         0])"
            ]
          },
          "metadata": {},
          "execution_count": 5
        }
      ]
    },
    {
      "cell_type": "code",
      "source": [
        "from sklearn.model_selection import train_test_split\n",
        "X_train, X_test, y_train, y_test = train_test_split(X, y, test_size = 0.25, random_state = 0)"
      ],
      "metadata": {
        "id": "cfZ_3n9SClB3"
      },
      "execution_count": null,
      "outputs": []
    },
    {
      "cell_type": "code",
      "source": [
        "# Fonte: https://scikit-learn.org/stable/modules/generated/sklearn.preprocessing.MinMaxScaler.html \n",
        "from sklearn.preprocessing import MinMaxScaler\n",
        "sc = MinMaxScaler()\n",
        "X_train = sc.fit_transform(X_train)\n",
        "\n",
        "X_test = sc.transform(X_test)"
      ],
      "metadata": {
        "id": "Ype3f7xWDNHK"
      },
      "execution_count": null,
      "outputs": []
    },
    {
      "cell_type": "code",
      "source": [
        "import tensorflow as tf"
      ],
      "metadata": {
        "id": "uRg6xKdSDeXl"
      },
      "execution_count": null,
      "outputs": []
    },
    {
      "cell_type": "code",
      "source": [
        "# Inicialização \n",
        "classifier = tf.keras.models.Sequential()\n",
        "\n",
        "# Adicionando a camada de entrada e a primeira camada escondida  \n",
        "classifier.add( tf.keras.layers.Dense( activation = 'relu', input_dim = 3, units = 4, kernel_initializer = 'uniform'))\n",
        "\n",
        "# Adicionando a camada de saída \n",
        "classifier.add( tf.keras.layers.Dense( activation = 'sigmoid', units = 1, kernel_initializer = 'uniform'))"
      ],
      "metadata": {
        "id": "xerA9FFADk9F"
      },
      "execution_count": null,
      "outputs": []
    },
    {
      "cell_type": "code",
      "source": [
        "# Montando a Rede \n",
        "classifier.compile(optimizer = 'adam', loss = 'binary_crossentropy', metrics = ['accuracy'])"
      ],
      "metadata": {
        "id": "LaiNhEaXDpGN"
      },
      "execution_count": null,
      "outputs": []
    },
    {
      "cell_type": "code",
      "source": [
        "classifier.fit(X_train, y_train, batch_size = 1, epochs = 81)"
      ],
      "metadata": {
        "colab": {
          "base_uri": "https://localhost:8080/"
        },
        "id": "kOS90Jf9Ds6d",
        "outputId": "bcf950fb-0fee-4020-aa17-a55171a86950"
      },
      "execution_count": null,
      "outputs": [
        {
          "output_type": "stream",
          "name": "stdout",
          "text": [
            "Epoch 1/81\n",
            "576/576 [==============================] - 3s 3ms/step - loss: 0.6837 - accuracy: 0.6302\n",
            "Epoch 2/81\n",
            "576/576 [==============================] - 2s 3ms/step - loss: 0.6657 - accuracy: 0.6424\n",
            "Epoch 3/81\n",
            "576/576 [==============================] - 2s 4ms/step - loss: 0.6557 - accuracy: 0.6424\n",
            "Epoch 4/81\n",
            "576/576 [==============================] - 1s 2ms/step - loss: 0.6471 - accuracy: 0.6424\n",
            "Epoch 5/81\n",
            "576/576 [==============================] - 1s 1ms/step - loss: 0.6384 - accuracy: 0.6424\n",
            "Epoch 6/81\n",
            "576/576 [==============================] - 1s 1ms/step - loss: 0.6295 - accuracy: 0.6458\n",
            "Epoch 7/81\n",
            "576/576 [==============================] - 1s 1ms/step - loss: 0.6214 - accuracy: 0.6562\n",
            "Epoch 8/81\n",
            "576/576 [==============================] - 1s 1ms/step - loss: 0.6134 - accuracy: 0.6458\n",
            "Epoch 9/81\n",
            "576/576 [==============================] - 1s 1ms/step - loss: 0.6066 - accuracy: 0.6493\n",
            "Epoch 10/81\n",
            "576/576 [==============================] - 1s 1ms/step - loss: 0.6002 - accuracy: 0.6649\n",
            "Epoch 11/81\n",
            "576/576 [==============================] - 1s 1ms/step - loss: 0.5932 - accuracy: 0.6892\n",
            "Epoch 12/81\n",
            "576/576 [==============================] - 1s 1ms/step - loss: 0.5899 - accuracy: 0.6684\n",
            "Epoch 13/81\n",
            "576/576 [==============================] - 1s 1ms/step - loss: 0.5847 - accuracy: 0.6858\n",
            "Epoch 14/81\n",
            "576/576 [==============================] - 1s 1ms/step - loss: 0.5799 - accuracy: 0.6962\n",
            "Epoch 15/81\n",
            "576/576 [==============================] - 1s 2ms/step - loss: 0.5763 - accuracy: 0.6910\n",
            "Epoch 16/81\n",
            "576/576 [==============================] - 1s 2ms/step - loss: 0.5734 - accuracy: 0.7031\n",
            "Epoch 17/81\n",
            "576/576 [==============================] - 1s 2ms/step - loss: 0.5699 - accuracy: 0.6979\n",
            "Epoch 18/81\n",
            "576/576 [==============================] - 1s 1ms/step - loss: 0.5668 - accuracy: 0.7118\n",
            "Epoch 19/81\n",
            "576/576 [==============================] - 1s 1ms/step - loss: 0.5631 - accuracy: 0.6944\n",
            "Epoch 20/81\n",
            "576/576 [==============================] - 1s 1ms/step - loss: 0.5609 - accuracy: 0.7170\n",
            "Epoch 21/81\n",
            "576/576 [==============================] - 1s 1ms/step - loss: 0.5584 - accuracy: 0.7101\n",
            "Epoch 22/81\n",
            "576/576 [==============================] - 1s 1ms/step - loss: 0.5567 - accuracy: 0.7222\n",
            "Epoch 23/81\n",
            "576/576 [==============================] - 1s 1ms/step - loss: 0.5545 - accuracy: 0.7118\n",
            "Epoch 24/81\n",
            "576/576 [==============================] - 1s 1ms/step - loss: 0.5519 - accuracy: 0.7240\n",
            "Epoch 25/81\n",
            "576/576 [==============================] - 1s 1ms/step - loss: 0.5515 - accuracy: 0.7188\n",
            "Epoch 26/81\n",
            "576/576 [==============================] - 1s 1ms/step - loss: 0.5489 - accuracy: 0.7222\n",
            "Epoch 27/81\n",
            "576/576 [==============================] - 1s 1ms/step - loss: 0.5475 - accuracy: 0.7257\n",
            "Epoch 28/81\n",
            "576/576 [==============================] - 1s 1ms/step - loss: 0.5461 - accuracy: 0.7240\n",
            "Epoch 29/81\n",
            "576/576 [==============================] - 1s 1ms/step - loss: 0.5442 - accuracy: 0.7344\n",
            "Epoch 30/81\n",
            "576/576 [==============================] - 1s 2ms/step - loss: 0.5424 - accuracy: 0.7344\n",
            "Epoch 31/81\n",
            "576/576 [==============================] - 1s 2ms/step - loss: 0.5420 - accuracy: 0.7326\n",
            "Epoch 32/81\n",
            "576/576 [==============================] - 1s 2ms/step - loss: 0.5412 - accuracy: 0.7413\n",
            "Epoch 33/81\n",
            "576/576 [==============================] - 1s 1ms/step - loss: 0.5388 - accuracy: 0.7326\n",
            "Epoch 34/81\n",
            "576/576 [==============================] - 1s 1ms/step - loss: 0.5381 - accuracy: 0.7396\n",
            "Epoch 35/81\n",
            "576/576 [==============================] - 1s 1ms/step - loss: 0.5381 - accuracy: 0.7396\n",
            "Epoch 36/81\n",
            "576/576 [==============================] - 1s 1ms/step - loss: 0.5364 - accuracy: 0.7396\n",
            "Epoch 37/81\n",
            "576/576 [==============================] - 1s 1ms/step - loss: 0.5353 - accuracy: 0.7361\n",
            "Epoch 38/81\n",
            "576/576 [==============================] - 1s 1ms/step - loss: 0.5327 - accuracy: 0.7483\n",
            "Epoch 39/81\n",
            "576/576 [==============================] - 1s 1ms/step - loss: 0.5343 - accuracy: 0.7413\n",
            "Epoch 40/81\n",
            "576/576 [==============================] - 1s 1ms/step - loss: 0.5317 - accuracy: 0.7483\n",
            "Epoch 41/81\n",
            "576/576 [==============================] - 1s 1ms/step - loss: 0.5320 - accuracy: 0.7413\n",
            "Epoch 42/81\n",
            "576/576 [==============================] - 1s 1ms/step - loss: 0.5319 - accuracy: 0.7361\n",
            "Epoch 43/81\n",
            "576/576 [==============================] - 1s 1ms/step - loss: 0.5304 - accuracy: 0.7465\n",
            "Epoch 44/81\n",
            "576/576 [==============================] - 1s 1ms/step - loss: 0.5295 - accuracy: 0.7535\n",
            "Epoch 45/81\n",
            "576/576 [==============================] - 1s 2ms/step - loss: 0.5270 - accuracy: 0.7483\n",
            "Epoch 46/81\n",
            "576/576 [==============================] - 1s 2ms/step - loss: 0.5312 - accuracy: 0.7448\n",
            "Epoch 47/81\n",
            "576/576 [==============================] - 1s 2ms/step - loss: 0.5280 - accuracy: 0.7396\n",
            "Epoch 48/81\n",
            "576/576 [==============================] - 1s 1ms/step - loss: 0.5282 - accuracy: 0.7465\n",
            "Epoch 49/81\n",
            "576/576 [==============================] - 1s 1ms/step - loss: 0.5279 - accuracy: 0.7448\n",
            "Epoch 50/81\n",
            "576/576 [==============================] - 1s 1ms/step - loss: 0.5282 - accuracy: 0.7448\n",
            "Epoch 51/81\n",
            "576/576 [==============================] - 1s 1ms/step - loss: 0.5281 - accuracy: 0.7483\n",
            "Epoch 52/81\n",
            "576/576 [==============================] - 1s 1ms/step - loss: 0.5274 - accuracy: 0.7448\n",
            "Epoch 53/81\n",
            "576/576 [==============================] - 1s 1ms/step - loss: 0.5267 - accuracy: 0.7413\n",
            "Epoch 54/81\n",
            "576/576 [==============================] - 1s 1ms/step - loss: 0.5276 - accuracy: 0.7413\n",
            "Epoch 55/81\n",
            "576/576 [==============================] - 1s 1ms/step - loss: 0.5261 - accuracy: 0.7448\n",
            "Epoch 56/81\n",
            "576/576 [==============================] - 1s 1ms/step - loss: 0.5268 - accuracy: 0.7448\n",
            "Epoch 57/81\n",
            "576/576 [==============================] - 1s 1ms/step - loss: 0.5264 - accuracy: 0.7378\n",
            "Epoch 58/81\n",
            "576/576 [==============================] - 1s 1ms/step - loss: 0.5261 - accuracy: 0.7413\n",
            "Epoch 59/81\n",
            "576/576 [==============================] - 1s 1ms/step - loss: 0.5261 - accuracy: 0.7431\n",
            "Epoch 60/81\n",
            "576/576 [==============================] - 1s 2ms/step - loss: 0.5259 - accuracy: 0.7465\n",
            "Epoch 61/81\n",
            "576/576 [==============================] - 1s 2ms/step - loss: 0.5252 - accuracy: 0.7431\n",
            "Epoch 62/81\n",
            "576/576 [==============================] - 1s 2ms/step - loss: 0.5250 - accuracy: 0.7448\n",
            "Epoch 63/81\n",
            "576/576 [==============================] - 1s 1ms/step - loss: 0.5257 - accuracy: 0.7448\n",
            "Epoch 64/81\n",
            "576/576 [==============================] - 1s 1ms/step - loss: 0.5253 - accuracy: 0.7431\n",
            "Epoch 65/81\n",
            "576/576 [==============================] - 1s 1ms/step - loss: 0.5247 - accuracy: 0.7413\n",
            "Epoch 66/81\n",
            "576/576 [==============================] - 1s 1ms/step - loss: 0.5246 - accuracy: 0.7431\n",
            "Epoch 67/81\n",
            "576/576 [==============================] - 1s 1ms/step - loss: 0.5249 - accuracy: 0.7465\n",
            "Epoch 68/81\n",
            "576/576 [==============================] - 1s 1ms/step - loss: 0.5246 - accuracy: 0.7396\n",
            "Epoch 69/81\n",
            "576/576 [==============================] - 1s 1ms/step - loss: 0.5240 - accuracy: 0.7413\n",
            "Epoch 70/81\n",
            "576/576 [==============================] - 1s 1ms/step - loss: 0.5253 - accuracy: 0.7448\n",
            "Epoch 71/81\n",
            "576/576 [==============================] - 1s 1ms/step - loss: 0.5237 - accuracy: 0.7396\n",
            "Epoch 72/81\n",
            "576/576 [==============================] - 1s 1ms/step - loss: 0.5245 - accuracy: 0.7378\n",
            "Epoch 73/81\n",
            "576/576 [==============================] - 1s 1ms/step - loss: 0.5237 - accuracy: 0.7431\n",
            "Epoch 74/81\n",
            "576/576 [==============================] - 1s 2ms/step - loss: 0.5244 - accuracy: 0.7396\n",
            "Epoch 75/81\n",
            "576/576 [==============================] - 1s 2ms/step - loss: 0.5239 - accuracy: 0.7378\n",
            "Epoch 76/81\n",
            "576/576 [==============================] - 1s 2ms/step - loss: 0.5244 - accuracy: 0.7396\n",
            "Epoch 77/81\n",
            "576/576 [==============================] - 1s 2ms/step - loss: 0.5248 - accuracy: 0.7378\n",
            "Epoch 78/81\n",
            "576/576 [==============================] - 1s 1ms/step - loss: 0.5240 - accuracy: 0.7448\n",
            "Epoch 79/81\n",
            "576/576 [==============================] - 1s 1ms/step - loss: 0.5238 - accuracy: 0.7413\n",
            "Epoch 80/81\n",
            "576/576 [==============================] - 1s 1ms/step - loss: 0.5235 - accuracy: 0.7483\n",
            "Epoch 81/81\n",
            "576/576 [==============================] - 1s 1ms/step - loss: 0.5247 - accuracy: 0.7413\n"
          ]
        },
        {
          "output_type": "execute_result",
          "data": {
            "text/plain": [
              "<keras.callbacks.History at 0x7ff520e9fb20>"
            ]
          },
          "metadata": {},
          "execution_count": 11
        }
      ]
    },
    {
      "cell_type": "code",
      "source": [
        "y_pred = classifier.predict(X_test)\n",
        "\n",
        "print(y_test[0:35])\n",
        "print(y_pred[0:35])"
      ],
      "metadata": {
        "colab": {
          "base_uri": "https://localhost:8080/"
        },
        "id": "vw4aj-AsEG3B",
        "outputId": "cfcc7dad-5b74-4f24-d874-6908930ed5b5"
      },
      "execution_count": null,
      "outputs": [
        {
          "output_type": "stream",
          "name": "stdout",
          "text": [
            "6/6 [==============================] - 0s 2ms/step\n",
            "[1 0 0 1 0 0 1 1 0 0 1 1 0 0 0 0 1 0 0 0 1 1 0 0 0 0 0 0 0 0 0 0 0 0 0]\n",
            "[[0.85549414]\n",
            " [0.18718955]\n",
            " [0.09050956]\n",
            " [0.78958404]\n",
            " [0.24234696]\n",
            " [0.0912405 ]\n",
            " [0.5951246 ]\n",
            " [0.845742  ]\n",
            " [0.3336744 ]\n",
            " [0.3047284 ]\n",
            " [0.6186628 ]\n",
            " [0.8930672 ]\n",
            " [0.40118366]\n",
            " [0.0907911 ]\n",
            " [0.09572351]\n",
            " [0.22750032]\n",
            " [0.8048886 ]\n",
            " [0.08708096]\n",
            " [0.5955793 ]\n",
            " [0.17011891]\n",
            " [0.5454973 ]\n",
            " [0.24350986]\n",
            " [0.10514107]\n",
            " [0.0963743 ]\n",
            " [0.13637526]\n",
            " [0.2850316 ]\n",
            " [0.18441963]\n",
            " [0.63739836]\n",
            " [0.21849468]\n",
            " [0.23150615]\n",
            " [0.56205064]\n",
            " [0.1548354 ]\n",
            " [0.17524508]\n",
            " [0.30852732]\n",
            " [0.26491216]]\n"
          ]
        }
      ]
    },
    {
      "cell_type": "code",
      "source": [
        "y_pred_bin = [ ( 1 if elem > 0.5 else 0) for elem in y_pred ] "
      ],
      "metadata": {
        "id": "-ad_fsa8EMEG"
      },
      "execution_count": null,
      "outputs": []
    },
    {
      "cell_type": "code",
      "source": [
        "import numpy as np\n",
        "\n",
        "y_pred_bin =  np.array(y_pred_bin)"
      ],
      "metadata": {
        "id": "2TknpY--EP5D"
      },
      "execution_count": null,
      "outputs": []
    },
    {
      "cell_type": "code",
      "source": [
        "print(y_test[0:35])\n",
        "print(y_pred_bin[0:35])"
      ],
      "metadata": {
        "colab": {
          "base_uri": "https://localhost:8080/"
        },
        "id": "YBc4_GEUERyu",
        "outputId": "e50355bb-605e-4ac8-a17d-2a54492cad0b"
      },
      "execution_count": null,
      "outputs": [
        {
          "output_type": "stream",
          "name": "stdout",
          "text": [
            "[1 0 0 1 0 0 1 1 0 0 1 1 0 0 0 0 1 0 0 0 1 1 0 0 0 0 0 0 0 0 0 0 0 0 0]\n",
            "[1 0 0 1 0 0 1 1 0 0 1 1 0 0 0 0 1 0 1 0 1 0 0 0 0 0 0 1 0 0 1 0 0 0 0]\n"
          ]
        }
      ]
    },
    {
      "cell_type": "code",
      "source": [
        "from sklearn.metrics import accuracy_score\n",
        "\n",
        "print(\"Acurácia: \", accuracy_score(y_test,y_pred_bin)*100, \"%\"  )"
      ],
      "metadata": {
        "colab": {
          "base_uri": "https://localhost:8080/"
        },
        "id": "_v_0IqOYEcN7",
        "outputId": "1cc926d5-2821-4233-98e0-44b624512895"
      },
      "execution_count": null,
      "outputs": [
        {
          "output_type": "stream",
          "name": "stdout",
          "text": [
            "Acurácia:  73.95833333333334 %\n"
          ]
        }
      ]
    },
    {
      "cell_type": "code",
      "source": [
        "from sklearn.metrics import confusion_matrix\n",
        "cm = confusion_matrix(y_test, y_pred_bin)\n",
        "print(\"Matrix de confusão: \")\n",
        "print(cm)"
      ],
      "metadata": {
        "colab": {
          "base_uri": "https://localhost:8080/"
        },
        "id": "q3diFj0_EnyI",
        "outputId": "c1644d72-4f3a-4258-95c9-f656d6544b58"
      },
      "execution_count": null,
      "outputs": [
        {
          "output_type": "stream",
          "name": "stdout",
          "text": [
            "Matrix de confusão: \n",
            "[[113  17]\n",
            " [ 33  29]]\n"
          ]
        }
      ]
    },
    {
      "cell_type": "code",
      "source": [
        "import matplotlib.pyplot as plt\n",
        "\n",
        "# Seleção dos elementos classificados como negativos (sem diabetes)\n",
        "insulin_neg = X_train[y_train == 0, 0]\n",
        "glucose_neg = X_train[y_train == 0, 1]\n",
        "insulin_pos = X_train[y_train == 1, 0]\n",
        "glucose_pos = X_train[y_train == 1, 1]\n",
        "age_neg = X_train[y_train == 0, 2] # nova variável age para os dados negativos\n",
        "age_pos = X_train[y_train == 1, 2] # nova variável age para os dados positivos\n",
        "\n",
        "plt.scatter(insulin_pos, glucose_pos, s=50, color='red', label='Diabetes')\n",
        "plt.scatter(insulin_neg, glucose_neg, s=50, color='green', label='Não diabetes')\n",
        "plt.scatter(age_pos, glucose_pos, s=50, color='blue', label='Idade') # scatterplot com age e glucose\n",
        "plt.scatter(age_neg, glucose_neg, s=50, color='blue')\n",
        "\n",
        "plt.title('SVM - Conjunto de Treinamento')\n",
        "plt.xlabel('Insulina')\n",
        "plt.ylabel('Glicose')\n",
        "plt.legend()\n",
        "plt.show()"
      ],
      "metadata": {
        "colab": {
          "base_uri": "https://localhost:8080/",
          "height": 472
        },
        "id": "CmsIjS_TE1Om",
        "outputId": "bc70c0b2-1383-4447-a907-56b8bb295e76"
      },
      "execution_count": null,
      "outputs": [
        {
          "output_type": "display_data",
          "data": {
            "text/plain": [
              "<Figure size 640x480 with 1 Axes>"
            ],
            "image/png": "[encoded data removed]"
          },
          "metadata": {}
        }
      ]
    },
    {
      "cell_type": "code",
      "source": [
        "vx = np.arange(-0.1, 1.1, 0.025) \n",
        "vy = np.arange(-0.1, 1.1, 0.025)\n",
        "X1, X2 = np.meshgrid(vx, vy)\n",
        "\n",
        "y_pred_mesh = classifier.predict(np.array([X1.ravel(), X2.ravel(), np.zeros_like(X1.ravel())]).T).reshape(X1.shape)\n",
        "\n",
        "from matplotlib.colors import ListedColormap\n",
        "plt.contourf(X1,X2, y_pred_mesh, alpha  = 0.5, cmap = ListedColormap(('green','red', 'blue')))"
      ],
      "metadata": {
        "colab": {
          "base_uri": "https://localhost:8080/",
          "height": 465
        },
        "id": "L1pU0JjDFC1e",
        "outputId": "4b829da5-b42f-4aa8-c7af-eef4536eb8eb"
      },
      "execution_count": null,
      "outputs": [
        {
          "output_type": "stream",
          "name": "stdout",
          "text": [
            "76/76 [==============================] - 0s 1ms/step\n"
          ]
        },
        {
          "output_type": "execute_result",
          "data": {
            "text/plain": [
              "<matplotlib.contour.QuadContourSet at 0x7ff5200d99d0>"
            ]
          },
          "metadata": {},
          "execution_count": 22
        },
        {
          "output_type": "display_data",
          "data": {
            "text/plain": [
              "<Figure size 640x480 with 1 Axes>"
            ],
            "image/png": "[encoded data removed]"
          },
          "metadata": {}
        }
      ]
    },
    {
      "cell_type": "code",
      "source": [
        "insulin_neg = X_test[y_test == 0, 0]\n",
        "glucose_neg = X_test[y_test == 0, 1]\n",
        "age_neg = X_test[y_test == 0, 2]\n",
        "insulin_pos = X_test[y_test == 1, 0]\n",
        "glucose_pos = X_test[y_test == 1, 1]\n",
        "age_pos = X_test[y_test == 1, 2]\n",
        "\n",
        "plt.contourf(X1,X2, y_pred_mesh, alpha  = 0.5, cmap = ListedColormap(('green','red')))\n",
        "\n",
        "plt.scatter(insulin_pos,glucose_pos, c=age_pos, cmap='viridis', label = 'Diabete')\n",
        "plt.scatter(insulin_neg,glucose_neg, c=age_neg, cmap='viridis', label = 'Não')\n",
        "\n",
        "plt.colorbar()\n",
        "plt.title('SVM - Conjunto de Treinamento')\n",
        "plt.xlabel('Insulina')\n",
        "plt.ylabel('Glicose')\n",
        "plt.legend()\n",
        "plt.show()"
      ],
      "metadata": {
        "colab": {
          "base_uri": "https://localhost:8080/",
          "height": 472
        },
        "id": "osJIHZ7sFG7Y",
        "outputId": "a630f3d7-6940-4510-ad7d-48da70184a63"
      },
      "execution_count": null,
      "outputs": [
        {
          "output_type": "display_data",
          "data": {
            "text/plain": [
              "<Figure size 640x480 with 2 Axes>"
            ],
            "image/png": "[encoded data removed]"
          },
          "metadata": {}
        }
      ]
    },
    {
      "cell_type": "code",
      "source": [
        "y_pred_mesh[30:35,40:45]"
      ],
      "metadata": {
        "colab": {
          "base_uri": "https://localhost:8080/"
        },
        "id": "W2Ri5H2VFKwO",
        "outputId": "8c0f663f-91d5-4ada-9a09-9d01e0b20952"
      },
      "execution_count": null,
      "outputs": [
        {
          "output_type": "execute_result",
          "data": {
            "text/plain": [
              "array([[0.33487445, 0.33528218, 0.33569002, 0.33609822, 0.33650655],\n",
              "       [0.3752505 , 0.3756795 , 0.37610874, 0.37653822, 0.37696782],\n",
              "       [0.41743922, 0.41788423, 0.41832936, 0.41877466, 0.41922   ],\n",
              "       [0.46087214, 0.46132684, 0.4617816 , 0.46223634, 0.4626912 ],\n",
              "       [0.50490755, 0.50536484, 0.5058222 , 0.50627947, 0.50673693]],\n",
              "      dtype=float32)"
            ]
          },
          "metadata": {},
          "execution_count": 24
        }
      ]
    },
    {
      "cell_type": "markdown",
      "source": [
        "Nesse código, primeiramente, o conjunto de dados sobre diabetes é lido a partir de um arquivo CSV e exibido usando o método 'head' e 'describe'. Em seguida, o conjunto de dados é dividido em variáveis de entrada e saída, X e y, respectivamente.\n",
        "\n",
        "A seguir, as variáveis X e y são divididas em conjuntos de treinamento e teste usando a função 'train_test_split' da biblioteca scikit-learn. Os dados são normalizados usando o 'MinMaxScaler' para evitar que uma variável tenha mais peso do que outra.\n",
        "\n",
        "Em seguida, o modelo de aprendizagem profunda é criado usando a biblioteca TensorFlow. É uma rede neural simples com uma camada de entrada, uma camada escondida e uma camada de saída. O modelo é compilado com o otimizador 'adam' e a função de perda 'binary_crossentropy' e treinado usando o método 'fit'.\n",
        "\n",
        "Depois que o modelo é treinado, o conjunto de teste é usado para fazer previsões usando o método 'predict'. As previsões são convertidas em um formato binário, ou seja, 1 se a previsão for maior que 0,5, e 0 caso contrário. A acurácia do modelo é avaliada usando a função 'accuracy_score' e a matriz de confusão é gerada usando a biblioteca scikit-learn.\n",
        "\n",
        "Por fim, os resultados do modelo são plotados usando a biblioteca matplotlib. Um gráfico de dispersão é plotado com os dados de treinamento, e um gráfico de contorno é usado para mostrar a região de decisão da rede neural."
      ],
      "metadata": {
        "id": "Z6B7BLENuhH2"
      }
    }
  ]
}